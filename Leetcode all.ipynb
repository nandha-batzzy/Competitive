{
 "cells": [
  {
   "cell_type": "code",
   "execution_count": 52,
   "metadata": {},
   "outputs": [
    {
     "data": {
      "text/plain": [
       "8"
      ]
     },
     "execution_count": 52,
     "metadata": {},
     "output_type": "execute_result"
    }
   ],
   "source": [
    "n = 5\n",
    "n = n+1\n",
    "d = [None]*n\n",
    "d[0] =1\n",
    "d[1] = 1\n",
    "\n",
    "for i in range(2,n):\n",
    "    d[i] = d[i-1] + d[i-2]\n",
    "\n",
    "d[-1]"
   ]
  },
  {
   "cell_type": "code",
   "execution_count": 7,
   "metadata": {},
   "outputs": [
    {
     "data": {
      "text/plain": [
       "3"
      ]
     },
     "execution_count": 7,
     "metadata": {},
     "output_type": "execute_result"
    }
   ],
   "source": [
    "nums = [3,2,1,4,5]\n",
    "nums.sort(reverse= True)\n",
    "nums[2]"
   ]
  },
  {
   "cell_type": "code",
   "execution_count": 6,
   "metadata": {},
   "outputs": [
    {
     "data": {
      "text/plain": [
       "[5, 4, 3, 2, 1]"
      ]
     },
     "execution_count": 6,
     "metadata": {},
     "output_type": "execute_result"
    }
   ],
   "source": [
    "nums"
   ]
  },
  {
   "cell_type": "code",
   "execution_count": 10,
   "metadata": {},
   "outputs": [
    {
     "data": {
      "text/plain": [
       "['o', 'l', 'l', 'e', 'h']"
      ]
     },
     "execution_count": 10,
     "metadata": {},
     "output_type": "execute_result"
    }
   ],
   "source": [
    "s = [\"h\",\"e\",\"l\",\"l\",\"o\"]\n",
    "s[::-1]"
   ]
  },
  {
   "cell_type": "code",
   "execution_count": 13,
   "metadata": {},
   "outputs": [],
   "source": [
    "s.reverse()"
   ]
  },
  {
   "cell_type": "code",
   "execution_count": 14,
   "metadata": {},
   "outputs": [
    {
     "data": {
      "text/plain": [
       "['o', 'l', 'l', 'e', 'h']"
      ]
     },
     "execution_count": 14,
     "metadata": {},
     "output_type": "execute_result"
    }
   ],
   "source": [
    "s"
   ]
  },
  {
   "cell_type": "code",
   "execution_count": 19,
   "metadata": {},
   "outputs": [
    {
     "data": {
      "text/plain": [
       "[2, 3, 4]"
      ]
     },
     "execution_count": 19,
     "metadata": {},
     "output_type": "execute_result"
    }
   ],
   "source": [
    "nums = [1,2,3,4]\n",
    "nums[1:]"
   ]
  },
  {
   "cell_type": "code",
   "execution_count": 30,
   "metadata": {},
   "outputs": [
    {
     "data": {
      "text/plain": [
       "{4: 1, 1: 2, 2: 2}"
      ]
     },
     "execution_count": 30,
     "metadata": {},
     "output_type": "execute_result"
    }
   ],
   "source": [
    "nums = [4,1,2,1,2]\n",
    "c = {}\n",
    "for i in nums:\n",
    "    if i not in c:\n",
    "        c[i] = 1\n",
    "    else:\n",
    "        c[i] = c.get(i,0)+1\n",
    "c"
   ]
  },
  {
   "cell_type": "code",
   "execution_count": 44,
   "metadata": {},
   "outputs": [
    {
     "name": "stdout",
     "output_type": "stream",
     "text": [
      "dict_keys([4, 1, 2])\n"
     ]
    }
   ],
   "source": [
    "if 1 in c.values():\n",
    "    print(c.keys())"
   ]
  },
  {
   "cell_type": "code",
   "execution_count": 85,
   "metadata": {},
   "outputs": [
    {
     "data": {
      "text/plain": [
       "'1b2a3'"
      ]
     },
     "execution_count": 85,
     "metadata": {},
     "output_type": "execute_result"
    }
   ],
   "source": [
    "s = \"123ab\"\n",
    "c = \"\"\n",
    "b = \"\"\n",
    "m = \"\"\n",
    "for i in s:\n",
    "    if ord(i) > 96:\n",
    "        c = c+i\n",
    "    elif ord(i) < 72:\n",
    "        b = b+i\n",
    "if c == \"\" or b == \"\":\n",
    "    print(\"\")\n",
    "lenc =len(c)\n",
    "lenb = len(b)\n",
    "if lenc >= lenb:\n",
    "    s = c+b\n",
    "else:\n",
    "    s = b+c\n",
    "i = 0\n",
    "j = len(s)-1\n",
    "while i<=j:\n",
    "    if i == j:\n",
    "        m = m+s[i]\n",
    "        break\n",
    "    m =m+ s[i]+s[j]\n",
    "\n",
    "    i = i+1\n",
    "    j = j-1\n",
    "m\n",
    "\n",
    "          \n",
    "        \n",
    "        "
   ]
  },
  {
   "cell_type": "code",
   "execution_count": 117,
   "metadata": {},
   "outputs": [
    {
     "name": "stdout",
     "output_type": "stream",
     "text": [
      "3\n"
     ]
    }
   ],
   "source": [
    "sentence = \"i love eating burger\"\n",
    "sentence = sentence.split()\n",
    "searchWord = \"burg\"\n",
    "for i in range(len(sentence)):\n",
    "    if searchWord in sentence[i]:\n",
    "        for k in searchWord:\n",
    "            m = 0\n",
    "            if k == sentence[i][m]:\n",
    "                  \n",
    "    "
   ]
  },
  {
   "cell_type": "code",
   "execution_count": 80,
   "metadata": {},
   "outputs": [],
   "source": [
    "n = 671289\n",
    "\n",
    "if len(str(n)) <= 3:\n",
    "    print(str(n))\n",
    "else:\n",
    "    c = 1\n",
    "    n = str(n)\n",
    "    lenn = len(n)-1\n",
    "    while lenn >= 0:\n",
    "        \n",
    "        if lenn%3 == 0:\n",
    "            if lenn == 0:\n",
    "                break\n",
    "            n = n[:-lenn] + '.' +n[-lenn:]\n",
    "        lenn = lenn-1\n",
    "    4321"
   ]
  },
  {
   "cell_type": "code",
   "execution_count": 61,
   "metadata": {},
   "outputs": [],
   "source": [
    "arr = [37,12,28,9,100,56,80,5,12]\n",
    "m = sorted(arr)\n",
    "lent = len(m)\n",
    "dic = {}\n",
    "lst = []\n",
    "i = 0\n",
    "c = 1\n",
    "while i < lent:\n",
    "    if m[i] in dic:\n",
    "        i =i +1\n",
    "        continue\n",
    "    dic[m[i]] = c\n",
    "    i = i+1\n",
    "    c = c+1\n",
    "\n",
    "for i in arr:\n",
    "    if i in dic:\n",
    "        lst.append(dic[i])\n",
    "        \n",
    "        \n",
    "        \n"
   ]
  },
  {
   "cell_type": "code",
   "execution_count": 62,
   "metadata": {},
   "outputs": [
    {
     "data": {
      "text/plain": [
       "{5: 1, 9: 2, 12: 3, 28: 4, 37: 5, 56: 6, 80: 7, 100: 8}"
      ]
     },
     "execution_count": 62,
     "metadata": {},
     "output_type": "execute_result"
    }
   ],
   "source": [
    "dic"
   ]
  },
  {
   "cell_type": "code",
   "execution_count": 63,
   "metadata": {},
   "outputs": [
    {
     "data": {
      "text/plain": [
       "[5, 3, 4, 2, 8, 6, 7, 1, 3]"
      ]
     },
     "execution_count": 63,
     "metadata": {},
     "output_type": "execute_result"
    }
   ],
   "source": [
    "lst\n",
    "    "
   ]
  },
  {
   "cell_type": "code",
   "execution_count": 94,
   "metadata": {},
   "outputs": [
    {
     "name": "stdout",
     "output_type": "stream",
     "text": [
      "1\n"
     ]
    }
   ],
   "source": [
    "lst = [1,2,3,4]\n",
    "\n",
    "start = 0\n",
    "end = 1 \n",
    "a = 0\n",
    "b = 0\n",
    "if start > end:\n",
    "    start,end =  end,start\n",
    "    \n",
    "for i in range(len(lst)-1):\n",
    "    if i >= start and i< end:\n",
    "        a = a + lst[i]\n",
    "    if i< start or i>=end:\n",
    "        b = b + lst[i]\n",
    "if a<b: \n",
    "    print(a)\n",
    "else:\n",
    "    print(b)\n",
    "        \n",
    "        "
   ]
  },
  {
   "cell_type": "code",
   "execution_count": 99,
   "metadata": {},
   "outputs": [],
   "source": [
    "nums = [0,0,1,1,1,2,2,3,3,4]\n",
    "lst = []\n",
    "i = 1\n",
    "for i in range(0,len(nums)-1):\n",
    "    j = i-1\n",
    "    key = arr[i]\n",
    "    \n",
    "    while j>= 0 and key == \n",
    "        \n",
    "        \n",
    "        \n",
    "    \n",
    "        "
   ]
  },
  {
   "cell_type": "code",
   "execution_count": 100,
   "metadata": {},
   "outputs": [
    {
     "data": {
      "text/plain": [
       "[0, 1, 1, 1, 2, 2, 3, 3, 4, 4]"
      ]
     },
     "execution_count": 100,
     "metadata": {},
     "output_type": "execute_result"
    }
   ],
   "source": [
    "nums"
   ]
  },
  {
   "cell_type": "code",
   "execution_count": 262,
   "metadata": {},
   "outputs": [],
   "source": [
    "s = \"????????????????????????????????????????????????????????????????????????????????????????????????????\"\n",
    "letters = \"abcdefghijklmnopqrstuvwxyz\"\n",
    "lens = len(s)-1\n",
    "new_s = s\n",
    "\n",
    "for i in range(lens):\n",
    "    j = 0\n",
    "\n",
    "    if  s[i] == '?' and (new_s[i+1] != letters[j] and new_s[i-1] != letters[j]):\n",
    "        new_s = new_s[:i] + letters[j] + new_s[i+1:]\n",
    "        break\n",
    "    j = j+1\n",
    "        \n",
    "                \n",
    "           \n",
    "    \n",
    "        \n",
    "        \n",
    "        "
   ]
  },
  {
   "cell_type": "code",
   "execution_count": 38,
   "metadata": {},
   "outputs": [],
   "source": [
    "class node:\n",
    "    def __init__(self,val,next):\n",
    "        self.val = val\n",
    "        self.next = next\n",
    "class llist:\n",
    "    def __init__(self):\n",
    "        self.head = None\n",
    "    def insert(self,data):\n",
    "        Node = node(data,self.head)\n",
    "        self.head = Node\n",
    "    def add_items(self,val):\n",
    "        if self.val is None:\n",
    "            return self.data\n",
    "        itr  =self.val\n",
    "        while itr:\n",
    "            itr = itr.next\n",
    "        itr = node(val,self.head)\n",
    "            \n",
    "        \n",
    "    \n",
    "    def print1(self):\n",
    "        if self.head is None:\n",
    "            print(\"linked list is empty\")\n",
    "            return\n",
    "        \n",
    "        itr = self.head\n",
    "        lstitr = \"\"\n",
    "        while itr:\n",
    "            lstitr = lstitr + str(itr.val)  \n",
    "            itr = itr.next\n",
    "        return lstitr\n",
    "                \n",
    "            \n",
    "            \n",
    "        "
   ]
  },
  {
   "cell_type": "code",
   "execution_count": 39,
   "metadata": {},
   "outputs": [
    {
     "ename": "AttributeError",
     "evalue": "'llist' object has no attribute 'data'",
     "output_type": "error",
     "traceback": [
      "\u001b[1;31m---------------------------------------------------------------------------\u001b[0m",
      "\u001b[1;31mAttributeError\u001b[0m                            Traceback (most recent call last)",
      "\u001b[1;32m<ipython-input-39-1bf986279a60>\u001b[0m in \u001b[0;36m<module>\u001b[1;34m\u001b[0m\n\u001b[0;32m      1\u001b[0m \u001b[0ma\u001b[0m \u001b[1;33m=\u001b[0m \u001b[0mllist\u001b[0m\u001b[1;33m(\u001b[0m\u001b[1;33m)\u001b[0m\u001b[1;33m\u001b[0m\u001b[1;33m\u001b[0m\u001b[0m\n\u001b[1;32m----> 2\u001b[1;33m \u001b[0ma\u001b[0m\u001b[1;33m.\u001b[0m\u001b[0madd_items\u001b[0m\u001b[1;33m(\u001b[0m\u001b[1;33m[\u001b[0m\u001b[1;36m1\u001b[0m\u001b[1;33m,\u001b[0m\u001b[1;36m2\u001b[0m\u001b[1;33m,\u001b[0m\u001b[1;36m3\u001b[0m\u001b[1;33m,\u001b[0m\u001b[1;36m4\u001b[0m\u001b[1;33m]\u001b[0m\u001b[1;33m)\u001b[0m\u001b[1;33m\u001b[0m\u001b[1;33m\u001b[0m\u001b[0m\n\u001b[0m",
      "\u001b[1;32m<ipython-input-38-c0171a4c0ac8>\u001b[0m in \u001b[0;36madd_items\u001b[1;34m(self, data)\u001b[0m\n\u001b[0;32m     10\u001b[0m         \u001b[0mself\u001b[0m\u001b[1;33m.\u001b[0m\u001b[0mhead\u001b[0m \u001b[1;33m=\u001b[0m \u001b[0mNode\u001b[0m\u001b[1;33m\u001b[0m\u001b[1;33m\u001b[0m\u001b[0m\n\u001b[0;32m     11\u001b[0m     \u001b[1;32mdef\u001b[0m \u001b[0madd_items\u001b[0m\u001b[1;33m(\u001b[0m\u001b[0mself\u001b[0m\u001b[1;33m,\u001b[0m\u001b[0mdata\u001b[0m\u001b[1;33m)\u001b[0m\u001b[1;33m:\u001b[0m\u001b[1;33m\u001b[0m\u001b[1;33m\u001b[0m\u001b[0m\n\u001b[1;32m---> 12\u001b[1;33m         \u001b[1;32mif\u001b[0m \u001b[0mself\u001b[0m\u001b[1;33m.\u001b[0m\u001b[0mdata\u001b[0m \u001b[1;32mis\u001b[0m \u001b[1;32mNone\u001b[0m\u001b[1;33m:\u001b[0m\u001b[1;33m\u001b[0m\u001b[1;33m\u001b[0m\u001b[0m\n\u001b[0m\u001b[0;32m     13\u001b[0m             \u001b[1;32mreturn\u001b[0m \u001b[0mself\u001b[0m\u001b[1;33m.\u001b[0m\u001b[0mdata\u001b[0m\u001b[1;33m\u001b[0m\u001b[1;33m\u001b[0m\u001b[0m\n\u001b[0;32m     14\u001b[0m         \u001b[0mitr\u001b[0m  \u001b[1;33m=\u001b[0m\u001b[0mself\u001b[0m\u001b[1;33m.\u001b[0m\u001b[0mdata\u001b[0m\u001b[1;33m\u001b[0m\u001b[1;33m\u001b[0m\u001b[0m\n",
      "\u001b[1;31mAttributeError\u001b[0m: 'llist' object has no attribute 'data'"
     ]
    }
   ],
   "source": [
    "a = llist()\n",
    "a.add_items([1,2,3,4])"
   ]
  },
  {
   "cell_type": "code",
   "execution_count": 37,
   "metadata": {},
   "outputs": [
    {
     "name": "stdout",
     "output_type": "stream",
     "text": [
      "4321\n"
     ]
    }
   ],
   "source": [
    "print(a.print1())"
   ]
  },
  {
   "cell_type": "code",
   "execution_count": 22,
   "metadata": {},
   "outputs": [
    {
     "name": "stdout",
     "output_type": "stream",
     "text": [
      "\n"
     ]
    }
   ],
   "source": [
    "\n",
    "\n",
    "\n",
    "def convert_to_inte(a):\n",
    "    dic = {\"1\":1,\"2\":2,\"3\":3,\"4\":4,\"5\":5,\"6\":6,\"7\":7,\"8\":8,\"9\":9,\"0\":0}\n",
    "    m = 0\n",
    "    for i in a:\n",
    "        m = m*10+dic[i]\n",
    "    return m\n",
    "\n",
    "def convert_to_str(a):\n",
    "    dic = {\"1\":1,\"2\":2,\"3\":3,\"4\":4,\"5\":5,\"6\":6,\"7\":7,\"8\":8,\"9\":9,\"0\":0}\n",
    "    m = \"\"\n",
    "    while a >0:\n",
    "        c = a%10\n",
    "        a = a//10\n",
    "        if c == v:\n",
    "            m = m + k\n",
    "        if a > 0:\n",
    "            break\n",
    "    return m \n",
    "a = \"11\"\n",
    "b = 123\n",
    "print(convert_to_str(b))\n",
    "        \n",
    "            \n",
    "    "
   ]
  },
  {
   "cell_type": "code",
   "execution_count": 31,
   "metadata": {},
   "outputs": [
    {
     "name": "stdout",
     "output_type": "stream",
     "text": [
      "3\n",
      "3\n",
      "3\n",
      "3\n"
     ]
    }
   ],
   "source": [
    "list1 = [\"Shogun\",\"Tapioca Express\",\"Burger King\",\"KFC\"]\n",
    "list2 = [\"KFC\",\"Burger King\",\"Tapioca Express\",\"Shogun\"]\n",
    "c ={}\n",
    "m = []\n",
    "len1 = len(list1)\n",
    "len2 = len(list2)\n",
    "\n",
    "index = len2 + len1\n",
    "\n",
    "for i in range(len1):\n",
    "    for j in range(len2):\n",
    "        if list1[i] == list2[j]:\n",
    "            min = abs(i+j)\n",
    "            if min<=index:\n",
    "                index = min\n",
    "                print(index)\n",
    "                c[list1[i]] = index\n",
    "\n",
    "                \n",
    "                \n",
    "\n"
   ]
  },
  {
   "cell_type": "code",
   "execution_count": 20,
   "metadata": {},
   "outputs": [
    {
     "name": "stdout",
     "output_type": "stream",
     "text": [
      "-1\n"
     ]
    }
   ],
   "source": [
    "def pivot_ind(nums, mid_ind):\n",
    "    c = 0\n",
    "    while c < mid_ind:\n",
    "        if sum(nums[:c]) == sum(nums[c+1:]):\n",
    "            return c\n",
    "        else:\n",
    "            c = c+1\n",
    "    return -1\n",
    "            \n",
    "\n",
    "nums = [1,11,2,3]   \n",
    "mid_ind = len(nums)\n",
    "print(pivot_ind(nums, mid_ind)) "
   ]
  },
  {
   "cell_type": "code",
   "execution_count": 17,
   "metadata": {},
   "outputs": [
    {
     "data": {
      "text/plain": [
       "[1, 1, -1, -1, 0]"
      ]
     },
     "execution_count": 17,
     "metadata": {},
     "output_type": "execute_result"
    }
   ],
   "source": [
    "nums[0:]"
   ]
  },
  {
   "cell_type": "code",
   "execution_count": 43,
   "metadata": {},
   "outputs": [
    {
     "data": {
      "text/plain": [
       "'ac#'"
      ]
     },
     "execution_count": 43,
     "metadata": {},
     "output_type": "execute_result"
    }
   ],
   "source": [
    "s = \"ab#c#\"\n",
    "t = \"ad#c\"\n",
    "\n",
    "i = 0\n",
    "lens = len(s)-1\n",
    "str1 = \"\"\n",
    "while i < lens:\n",
    "    if s[i] == '#' and i != 0:\n",
    "        s = s[:i-1] + s[i+1:]\n",
    "        lens = lens-2\n",
    "    i = i+1\n",
    "    \n",
    "s      \n",
    "    \n"
   ]
  },
  {
   "cell_type": "code",
   "execution_count": 50,
   "metadata": {},
   "outputs": [
    {
     "name": "stdout",
     "output_type": "stream",
     "text": [
      "1\n",
      "1\n",
      "1\n",
      "1\n",
      "5\n"
     ]
    }
   ],
   "source": [
    "prices = [7,1,5,3,6,4]\n",
    "mini = 0\n",
    "for i in range(0,len(prices)-1):\n",
    "    j = i+1\n",
    "    k =prices[i]\n",
    "    while j<len(prices)-1:\n",
    "        if prices[j] <= k:\n",
    "            break\n",
    "        else:\n",
    "            prof = prices[j] - k\n",
    "            print(1)\n",
    "            if prof > mini:\n",
    "                mini = prof\n",
    "        j = j+1\n",
    "print(mini)\n",
    "    "
   ]
  },
  {
   "cell_type": "code",
   "execution_count": 48,
   "metadata": {},
   "outputs": [],
   "source": [
    "num = [3,2,2]\n",
    "c = 0\n",
    "nums = sorted(num)\n",
    "for k,v in enumerate(nums,start= 1):\n",
    "    if k !=v:\n",
    "        c = [k,v]\n"
   ]
  },
  {
   "cell_type": "code",
   "execution_count": 108,
   "metadata": {},
   "outputs": [
    {
     "data": {
      "text/plain": [
       "[2, 248, 124, 62, 31, 4, 124, 31, 8, 62]"
      ]
     },
     "execution_count": 108,
     "metadata": {},
     "output_type": "execute_result"
    }
   ],
   "source": [
    "\n"
   ]
  },
  {
   "cell_type": "code",
   "execution_count": 21,
   "metadata": {},
   "outputs": [],
   "source": [
    "num = [3,2,3,4,6,5]\n",
    "m = set(num)\n",
    "\n",
    "n = enumerate(num,start=1)\n",
    "miss = sum(num) -sum(m)\n",
    "c = 0\n",
    "for k,v in enumerate(num,start=1):\n",
    "    c = k+c\n",
    "out  =  c -sum(m) "
   ]
  },
  {
   "cell_type": "code",
   "execution_count": 94,
   "metadata": {},
   "outputs": [
    {
     "name": "stdout",
     "output_type": "stream",
     "text": [
      "True\n"
     ]
    }
   ],
   "source": [
    "num = 496\n",
    "lst =[]\n",
    "i = 2\n",
    "for i in range(1,int(num*0.5)+1):\n",
    "    if num%i == 0:\n",
    "        lst.append(i)\n",
    "        \n",
    "if sum(lst) == num:\n",
    "    print(True)\n",
    "else:\n",
    "    print(False)\n",
    "        \n"
   ]
  },
  {
   "cell_type": "code",
   "execution_count": 95,
   "metadata": {},
   "outputs": [
    {
     "data": {
      "text/plain": [
       "[1, 2, 4, 8, 16, 31, 62, 124, 248]"
      ]
     },
     "execution_count": 95,
     "metadata": {},
     "output_type": "execute_result"
    }
   ],
   "source": [
    "lst"
   ]
  },
  {
   "cell_type": "code",
   "execution_count": 96,
   "metadata": {},
   "outputs": [
    {
     "data": {
      "text/plain": [
       "496"
      ]
     },
     "execution_count": 96,
     "metadata": {},
     "output_type": "execute_result"
    }
   ],
   "source": [
    "sum(lst)"
   ]
  },
  {
   "cell_type": "code",
   "execution_count": 1,
   "metadata": {},
   "outputs": [
    {
     "data": {
      "text/plain": [
       "'abc'"
      ]
     },
     "execution_count": 1,
     "metadata": {},
     "output_type": "execute_result"
    }
   ],
   "source": [
    "s = \"abcd\"\n",
    "s[:-1]"
   ]
  },
  {
   "cell_type": "code",
   "execution_count": 4,
   "metadata": {},
   "outputs": [
    {
     "name": "stdout",
     "output_type": "stream",
     "text": [
      "55\n",
      "88\n",
      "45\n",
      "98\n",
      "55\n",
      "76\n",
      "14\n",
      "23\n"
     ]
    }
   ],
   "source": [
    "nums=[-55,-88,-45,-98,55,76,14,23]\n",
    "for i in nums:\n",
    "    print(abs(i))"
   ]
  },
  {
   "cell_type": "code",
   "execution_count": 20,
   "metadata": {},
   "outputs": [],
   "source": [
    "strs = [\"zyx\",\"wvu\",\"tsr\"]\n",
    "m = sorted(strs,reverse= True)"
   ]
  },
  {
   "cell_type": "code",
   "execution_count": 21,
   "metadata": {},
   "outputs": [
    {
     "name": "stdout",
     "output_type": "stream",
     "text": [
      "1\n"
     ]
    }
   ],
   "source": [
    "if strs == m:\n",
    "    print(1)"
   ]
  },
  {
   "cell_type": "code",
   "execution_count": 4,
   "metadata": {},
   "outputs": [],
   "source": [
    "s = \"aacaba\"\n",
    "m = sorted(set(s))"
   ]
  },
  {
   "cell_type": "code",
   "execution_count": 5,
   "metadata": {},
   "outputs": [
    {
     "data": {
      "text/plain": [
       "['a', 'b', 'c']"
      ]
     },
     "execution_count": 5,
     "metadata": {},
     "output_type": "execute_result"
    }
   ],
   "source": [
    "m"
   ]
  },
  {
   "cell_type": "code",
   "execution_count": 9,
   "metadata": {},
   "outputs": [
    {
     "data": {
      "text/plain": [
       "0"
      ]
     },
     "execution_count": 9,
     "metadata": {},
     "output_type": "execute_result"
    }
   ],
   "source": [
    "s = \"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\"\n",
    "c = 0\n",
    "strs = sorted(set(s))\n",
    "for i in range(len(strs)-1):\n",
    "    if len(strs[:i+1]) == len(strs[i+1:]):\n",
    "        c = c+1\n",
    "c"
   ]
  },
  {
   "cell_type": "code",
   "execution_count": 64,
   "metadata": {},
   "outputs": [
    {
     "name": "stdout",
     "output_type": "stream",
     "text": [
      "{'a': 958, 'm': 982, 'e': 927, 'j': 908, 'n': 973, 'p': 935, 'r': 925, 'o': 1000, 'k': 1032, 'f': 995, 'h': 945, 'g': 997, 'c': 1009, 'l': 973, 'b': 990, 'd': 976, 's': 957, 'q': 931, 'i': 940}\n"
     ]
    }
   ],
   "source": [
    "s =\"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\"\n",
    "c= {}\n",
    "for i in s:\n",
    "    c[i] = c.get(i,0)+1\n",
    "print(c)"
   ]
  },
  {
   "cell_type": "code",
   "execution_count": 69,
   "metadata": {},
   "outputs": [
    {
     "data": {
      "text/plain": [
       "965"
      ]
     },
     "execution_count": 69,
     "metadata": {},
     "output_type": "execute_result"
    }
   ],
   "source": [
    "sum(c.values())//19"
   ]
  },
  {
   "cell_type": "code",
   "execution_count": 57,
   "metadata": {},
   "outputs": [
    {
     "data": {
      "text/plain": [
       "-1101"
      ]
     },
     "execution_count": 57,
     "metadata": {},
     "output_type": "execute_result"
    }
   ],
   "source": [
    "m"
   ]
  },
  {
   "cell_type": "code",
   "execution_count": 79,
   "metadata": {},
   "outputs": [
    {
     "data": {
      "text/plain": [
       "2"
      ]
     },
     "execution_count": 79,
     "metadata": {},
     "output_type": "execute_result"
    }
   ],
   "source": [
    "from collections import deque\n",
    "p = collections.defaultdict(int)\n",
    "q = collections.defaultdict(int)\n",
    "s = \"aacaba\"\n",
    "for i in s:\n",
    "    p[i] += 1\n",
    "ct = 0 \n",
    "for i in s:\n",
    "    p[i] -= 1\n",
    "    q[i] += 1\n",
    "    if len(p) == len(q):\n",
    "        ct = ct+1\n",
    "ct"
   ]
  },
  {
   "cell_type": "code",
   "execution_count": 109,
   "metadata": {},
   "outputs": [
    {
     "name": "stdout",
     "output_type": "stream",
     "text": [
      "11111\n",
      "10111\n"
     ]
    }
   ],
   "source": [
    "target = \"10111\"\n",
    "lent = len(target)\n",
    "c = len(target)*\"0\"\n",
    "m = 0\n",
    "for i in range(lent-1):\n",
    "    if target[i] == c[i]:\n",
    "        continue\n",
    "    else:\n",
    "        if target[i] == \"1\":\n",
    "            c = c[:i] + (lent-i)*\"1\"\n",
    "            print(c)\n",
    "        elif target[i] == \"0\":\n",
    "            c = c[:i]+ (lent-i)*\"0\"\n",
    "        m = m+1"
   ]
  },
  {
   "cell_type": "code",
   "execution_count": 110,
   "metadata": {},
   "outputs": [
    {
     "data": {
      "text/plain": [
       "3"
      ]
     },
     "execution_count": 110,
     "metadata": {},
     "output_type": "execute_result"
    }
   ],
   "source": [
    "m"
   ]
  },
  {
   "cell_type": "code",
   "execution_count": null,
   "metadata": {},
   "outputs": [],
   "source": []
  }
 ],
 "metadata": {
  "kernelspec": {
   "display_name": "Python 3",
   "language": "python",
   "name": "python3"
  },
  "language_info": {
   "codemirror_mode": {
    "name": "ipython",
    "version": 3
   },
   "file_extension": ".py",
   "mimetype": "text/x-python",
   "name": "python",
   "nbconvert_exporter": "python",
   "pygments_lexer": "ipython3",
   "version": "3.8.5"
  }
 },
 "nbformat": 4,
 "nbformat_minor": 4
}
